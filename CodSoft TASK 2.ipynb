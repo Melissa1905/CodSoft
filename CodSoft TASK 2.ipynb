{
 "cells": [
  {
   "cell_type": "markdown",
   "id": "ae23a7db",
   "metadata": {},
   "source": [
    "# CodSoft"
   ]
  },
  {
   "cell_type": "markdown",
   "id": "808b9a7e",
   "metadata": {},
   "source": [
    "# Data Science\n"
   ]
  },
  {
   "cell_type": "markdown",
   "id": "db8d37ab",
   "metadata": {},
   "source": [
    "## TASK 2- Movie Rating Prediction with Python\n"
   ]
  },
  {
   "cell_type": "markdown",
   "id": "d41ab4c9",
   "metadata": {},
   "source": [
    "### Name: Melissa Dsouza"
   ]
  },
  {
   "cell_type": "code",
   "execution_count": 142,
   "id": "488c951a",
   "metadata": {},
   "outputs": [],
   "source": [
    "import numpy as np\n",
    "import pandas as pd\n",
    "import seaborn as sns\n",
    "import matplotlib.pyplot as plt"
   ]
  },
  {
   "cell_type": "markdown",
   "id": "5e4a7af7",
   "metadata": {},
   "source": [
    "#### Loading the data"
   ]
  },
  {
   "cell_type": "code",
   "execution_count": 143,
   "id": "6bf32382",
   "metadata": {},
   "outputs": [],
   "source": [
    "movie_data=pd.read_csv(\"C:/Users/dsouz/OneDrive/Desktop/Internship/IMDb-Movies-India.csv\", encoding='latin1')"
   ]
  },
  {
   "cell_type": "code",
   "execution_count": 144,
   "id": "9f283f45",
   "metadata": {},
   "outputs": [
    {
     "data": {
      "text/plain": [
       "(15509, 10)"
      ]
     },
     "execution_count": 144,
     "metadata": {},
     "output_type": "execute_result"
    }
   ],
   "source": [
    "movie_data.shape"
   ]
  },
  {
   "cell_type": "code",
   "execution_count": 145,
   "id": "404cb388",
   "metadata": {},
   "outputs": [
    {
     "data": {
      "text/html": [
       "<div>\n",
       "<style scoped>\n",
       "    .dataframe tbody tr th:only-of-type {\n",
       "        vertical-align: middle;\n",
       "    }\n",
       "\n",
       "    .dataframe tbody tr th {\n",
       "        vertical-align: top;\n",
       "    }\n",
       "\n",
       "    .dataframe thead th {\n",
       "        text-align: right;\n",
       "    }\n",
       "</style>\n",
       "<table border=\"1\" class=\"dataframe\">\n",
       "  <thead>\n",
       "    <tr style=\"text-align: right;\">\n",
       "      <th></th>\n",
       "      <th>Name</th>\n",
       "      <th>Year</th>\n",
       "      <th>Duration</th>\n",
       "      <th>Genre</th>\n",
       "      <th>Rating</th>\n",
       "      <th>Votes</th>\n",
       "      <th>Director</th>\n",
       "      <th>Actor 1</th>\n",
       "      <th>Actor 2</th>\n",
       "      <th>Actor 3</th>\n",
       "    </tr>\n",
       "  </thead>\n",
       "  <tbody>\n",
       "    <tr>\n",
       "      <th>0</th>\n",
       "      <td></td>\n",
       "      <td>NaN</td>\n",
       "      <td>NaN</td>\n",
       "      <td>Drama</td>\n",
       "      <td>NaN</td>\n",
       "      <td>NaN</td>\n",
       "      <td>J.S. Randhawa</td>\n",
       "      <td>Manmauji</td>\n",
       "      <td>Birbal</td>\n",
       "      <td>Rajendra Bhatia</td>\n",
       "    </tr>\n",
       "    <tr>\n",
       "      <th>1</th>\n",
       "      <td>#Gadhvi (He thought he was Gandhi)</td>\n",
       "      <td>(2019)</td>\n",
       "      <td>109 min</td>\n",
       "      <td>Drama</td>\n",
       "      <td>7.0</td>\n",
       "      <td>8</td>\n",
       "      <td>Gaurav Bakshi</td>\n",
       "      <td>Rasika Dugal</td>\n",
       "      <td>Vivek Ghamande</td>\n",
       "      <td>Arvind Jangid</td>\n",
       "    </tr>\n",
       "    <tr>\n",
       "      <th>2</th>\n",
       "      <td>#Homecoming</td>\n",
       "      <td>(2021)</td>\n",
       "      <td>90 min</td>\n",
       "      <td>Drama, Musical</td>\n",
       "      <td>NaN</td>\n",
       "      <td>NaN</td>\n",
       "      <td>Soumyajit Majumdar</td>\n",
       "      <td>Sayani Gupta</td>\n",
       "      <td>Plabita Borthakur</td>\n",
       "      <td>Roy Angana</td>\n",
       "    </tr>\n",
       "    <tr>\n",
       "      <th>3</th>\n",
       "      <td>#Yaaram</td>\n",
       "      <td>(2019)</td>\n",
       "      <td>110 min</td>\n",
       "      <td>Comedy, Romance</td>\n",
       "      <td>4.4</td>\n",
       "      <td>35</td>\n",
       "      <td>Ovais Khan</td>\n",
       "      <td>Prateik</td>\n",
       "      <td>Ishita Raj</td>\n",
       "      <td>Siddhant Kapoor</td>\n",
       "    </tr>\n",
       "    <tr>\n",
       "      <th>4</th>\n",
       "      <td>...And Once Again</td>\n",
       "      <td>(2010)</td>\n",
       "      <td>105 min</td>\n",
       "      <td>Drama</td>\n",
       "      <td>NaN</td>\n",
       "      <td>NaN</td>\n",
       "      <td>Amol Palekar</td>\n",
       "      <td>Rajat Kapoor</td>\n",
       "      <td>Rituparna Sengupta</td>\n",
       "      <td>Antara Mali</td>\n",
       "    </tr>\n",
       "  </tbody>\n",
       "</table>\n",
       "</div>"
      ],
      "text/plain": [
       "                                 Name    Year Duration            Genre  \\\n",
       "0                                         NaN      NaN            Drama   \n",
       "1  #Gadhvi (He thought he was Gandhi)  (2019)  109 min            Drama   \n",
       "2                         #Homecoming  (2021)   90 min   Drama, Musical   \n",
       "3                             #Yaaram  (2019)  110 min  Comedy, Romance   \n",
       "4                   ...And Once Again  (2010)  105 min            Drama   \n",
       "\n",
       "   Rating Votes            Director       Actor 1             Actor 2  \\\n",
       "0     NaN   NaN       J.S. Randhawa      Manmauji              Birbal   \n",
       "1     7.0     8       Gaurav Bakshi  Rasika Dugal      Vivek Ghamande   \n",
       "2     NaN   NaN  Soumyajit Majumdar  Sayani Gupta   Plabita Borthakur   \n",
       "3     4.4    35          Ovais Khan       Prateik          Ishita Raj   \n",
       "4     NaN   NaN        Amol Palekar  Rajat Kapoor  Rituparna Sengupta   \n",
       "\n",
       "           Actor 3  \n",
       "0  Rajendra Bhatia  \n",
       "1    Arvind Jangid  \n",
       "2       Roy Angana  \n",
       "3  Siddhant Kapoor  \n",
       "4      Antara Mali  "
      ]
     },
     "execution_count": 145,
     "metadata": {},
     "output_type": "execute_result"
    }
   ],
   "source": [
    "movie_data.head()"
   ]
  },
  {
   "cell_type": "code",
   "execution_count": 146,
   "id": "ebdb9e38",
   "metadata": {},
   "outputs": [
    {
     "name": "stdout",
     "output_type": "stream",
     "text": [
      "<class 'pandas.core.frame.DataFrame'>\n",
      "RangeIndex: 15509 entries, 0 to 15508\n",
      "Data columns (total 10 columns):\n",
      " #   Column    Non-Null Count  Dtype  \n",
      "---  ------    --------------  -----  \n",
      " 0   Name      15509 non-null  object \n",
      " 1   Year      14981 non-null  object \n",
      " 2   Duration  7240 non-null   object \n",
      " 3   Genre     13632 non-null  object \n",
      " 4   Rating    7919 non-null   float64\n",
      " 5   Votes     7920 non-null   object \n",
      " 6   Director  14984 non-null  object \n",
      " 7   Actor 1   13892 non-null  object \n",
      " 8   Actor 2   13125 non-null  object \n",
      " 9   Actor 3   12365 non-null  object \n",
      "dtypes: float64(1), object(9)\n",
      "memory usage: 1.2+ MB\n"
     ]
    }
   ],
   "source": [
    "movie_data.info()"
   ]
  },
  {
   "cell_type": "code",
   "execution_count": 147,
   "id": "162db21e",
   "metadata": {},
   "outputs": [
    {
     "data": {
      "text/html": [
       "<div>\n",
       "<style scoped>\n",
       "    .dataframe tbody tr th:only-of-type {\n",
       "        vertical-align: middle;\n",
       "    }\n",
       "\n",
       "    .dataframe tbody tr th {\n",
       "        vertical-align: top;\n",
       "    }\n",
       "\n",
       "    .dataframe thead th {\n",
       "        text-align: right;\n",
       "    }\n",
       "</style>\n",
       "<table border=\"1\" class=\"dataframe\">\n",
       "  <thead>\n",
       "    <tr style=\"text-align: right;\">\n",
       "      <th></th>\n",
       "      <th>Rating</th>\n",
       "    </tr>\n",
       "  </thead>\n",
       "  <tbody>\n",
       "    <tr>\n",
       "      <th>count</th>\n",
       "      <td>7919.000000</td>\n",
       "    </tr>\n",
       "    <tr>\n",
       "      <th>mean</th>\n",
       "      <td>5.841621</td>\n",
       "    </tr>\n",
       "    <tr>\n",
       "      <th>std</th>\n",
       "      <td>1.381777</td>\n",
       "    </tr>\n",
       "    <tr>\n",
       "      <th>min</th>\n",
       "      <td>1.100000</td>\n",
       "    </tr>\n",
       "    <tr>\n",
       "      <th>25%</th>\n",
       "      <td>4.900000</td>\n",
       "    </tr>\n",
       "    <tr>\n",
       "      <th>50%</th>\n",
       "      <td>6.000000</td>\n",
       "    </tr>\n",
       "    <tr>\n",
       "      <th>75%</th>\n",
       "      <td>6.800000</td>\n",
       "    </tr>\n",
       "    <tr>\n",
       "      <th>max</th>\n",
       "      <td>10.000000</td>\n",
       "    </tr>\n",
       "  </tbody>\n",
       "</table>\n",
       "</div>"
      ],
      "text/plain": [
       "            Rating\n",
       "count  7919.000000\n",
       "mean      5.841621\n",
       "std       1.381777\n",
       "min       1.100000\n",
       "25%       4.900000\n",
       "50%       6.000000\n",
       "75%       6.800000\n",
       "max      10.000000"
      ]
     },
     "execution_count": 147,
     "metadata": {},
     "output_type": "execute_result"
    }
   ],
   "source": [
    "movie_data.describe()"
   ]
  },
  {
   "cell_type": "markdown",
   "id": "e6758fe8",
   "metadata": {},
   "source": [
    "#### Data Cleaning and Preprocessing"
   ]
  },
  {
   "cell_type": "code",
   "execution_count": 148,
   "id": "b0c4ed60",
   "metadata": {},
   "outputs": [
    {
     "data": {
      "text/plain": [
       "Name           0\n",
       "Year         528\n",
       "Duration    8269\n",
       "Genre       1877\n",
       "Rating      7590\n",
       "Votes       7589\n",
       "Director     525\n",
       "Actor 1     1617\n",
       "Actor 2     2384\n",
       "Actor 3     3144\n",
       "dtype: int64"
      ]
     },
     "execution_count": 148,
     "metadata": {},
     "output_type": "execute_result"
    }
   ],
   "source": [
    "movie_data.isnull().sum()"
   ]
  },
  {
   "cell_type": "code",
   "execution_count": 149,
   "id": "f7fa2dbf",
   "metadata": {},
   "outputs": [
    {
     "data": {
      "text/plain": [
       "6"
      ]
     },
     "execution_count": 149,
     "metadata": {},
     "output_type": "execute_result"
    }
   ],
   "source": [
    "movie_data.duplicated().sum()"
   ]
  },
  {
   "cell_type": "code",
   "execution_count": 150,
   "id": "ef2de713",
   "metadata": {},
   "outputs": [],
   "source": [
    "movie_data.drop_duplicates(inplace=True)"
   ]
  },
  {
   "cell_type": "code",
   "execution_count": 151,
   "id": "344841a1",
   "metadata": {},
   "outputs": [
    {
     "data": {
      "text/plain": [
       "0"
      ]
     },
     "execution_count": 151,
     "metadata": {},
     "output_type": "execute_result"
    }
   ],
   "source": [
    "movie_data.duplicated().sum()"
   ]
  },
  {
   "cell_type": "code",
   "execution_count": 152,
   "id": "034dbd8a",
   "metadata": {},
   "outputs": [],
   "source": [
    "movie_data[\"Rating\"].fillna(movie_data[\"Rating\"].mean(),inplace=True)"
   ]
  },
  {
   "cell_type": "code",
   "execution_count": 153,
   "id": "779fa1df",
   "metadata": {},
   "outputs": [],
   "source": [
    "movie_data = movie_data.replace('NaN', np.nan)"
   ]
  },
  {
   "cell_type": "code",
   "execution_count": 154,
   "id": "d4981299",
   "metadata": {},
   "outputs": [],
   "source": [
    "movie_data.dropna(subset=[\"Year\",\"Genre\",\"Votes\",\"Director\",\"Actor 1\",\"Actor 2\",\"Actor 3\",'Rating'],inplace=True)"
   ]
  },
  {
   "cell_type": "code",
   "execution_count": 155,
   "id": "b0d6d29a",
   "metadata": {},
   "outputs": [
    {
     "data": {
      "text/plain": [
       "Name           0\n",
       "Year           0\n",
       "Duration    1900\n",
       "Genre          0\n",
       "Rating         0\n",
       "Votes          0\n",
       "Director       0\n",
       "Actor 1        0\n",
       "Actor 2        0\n",
       "Actor 3        0\n",
       "dtype: int64"
      ]
     },
     "execution_count": 155,
     "metadata": {},
     "output_type": "execute_result"
    }
   ],
   "source": [
    "movie_data.isnull().sum()"
   ]
  },
  {
   "cell_type": "code",
   "execution_count": 156,
   "id": "4ee4f363",
   "metadata": {},
   "outputs": [],
   "source": [
    "movie_data[\"Genre\"]=movie_data[\"Genre\"].str.split(\",\").explode(\"Genre\").reset_index(drop=True)"
   ]
  },
  {
   "cell_type": "code",
   "execution_count": 157,
   "id": "da3d76a8",
   "metadata": {},
   "outputs": [
    {
     "data": {
      "text/plain": [
       "array(['Comedy', ' Musical', 'Drama', ' War', 'Horror', ' Mystery',\n",
       "       ' Thriller', 'Action', ' Crime', ' Romance', ' Drama', 'Crime',\n",
       "       ' Horror', ' History', 'Thriller', 'Adventure', ' Sci-Fi', 'Sport',\n",
       "       'Biography', ' Sport', ' Adventure', ' Fantasy', ' Comedy',\n",
       "       'Mystery', 'Fantasy', 'Musical', 'Romance', ' Family', ' Music',\n",
       "       'Sci-Fi', 'Music', 'Family', 'Documentary', 'Animation',\n",
       "       ' Biography', ' Action', 'War', ' Western', 'History', nan],\n",
       "      dtype=object)"
      ]
     },
     "execution_count": 157,
     "metadata": {},
     "output_type": "execute_result"
    }
   ],
   "source": [
    "movie_data['Genre'].unique()"
   ]
  },
  {
   "cell_type": "code",
   "execution_count": 158,
   "id": "480ca8a1",
   "metadata": {},
   "outputs": [],
   "source": [
    "movie_data[\"Genre\"]=movie_data[\"Genre\"].str.replace(\" \",\"\")"
   ]
  },
  {
   "cell_type": "code",
   "execution_count": 160,
   "id": "7c3a9f85",
   "metadata": {},
   "outputs": [],
   "source": [
    "value= 'nan'\n",
    "movie_data=movie_data[movie_data['Genre'] != value]"
   ]
  },
  {
   "cell_type": "code",
   "execution_count": 161,
   "id": "4c601a1f",
   "metadata": {},
   "outputs": [],
   "source": [
    "movie_data.sort_values(by=\"Rating\",ascending=False,inplace=True)"
   ]
  },
  {
   "cell_type": "code",
   "execution_count": null,
   "id": "a8f1800a",
   "metadata": {},
   "outputs": [],
   "source": [
    "movie_data[\"Genre\"]=movie_data.groupby(\"Genre\")[\"Rating\"].transform(\"mean\")\n",
    "movie_data[\"Director\"]=movie_data.groupby(\"Director\")[\"Rating\"].transform(\"mean\")\n",
    "movie_data[\"Actor 1\"]=movie_data.groupby(\"Actor 1\")[\"Rating\"].transform(\"mean\")\n",
    "movie_data[\"Actor 2\"]=movie_data.groupby(\"Actor 2\")[\"Rating\"].transform(\"mean\")\n",
    "movie_data[\"Actor 3\"]=movie_data.groupby(\"Actor 3\")[\"Rating\"].transform(\"mean\")\n",
    "movie_data[\"Name\"]=movie_data.groupby(\"Name\")[\"Rating\"].transform(\"mean\")"
   ]
  },
  {
   "cell_type": "markdown",
   "id": "676c165c",
   "metadata": {},
   "source": [
    "#### Visualization"
   ]
  },
  {
   "cell_type": "code",
   "execution_count": 162,
   "id": "afa493dc",
   "metadata": {
    "scrolled": true
   },
   "outputs": [
    {
     "data": {
      "text/plain": [
       "Text(0.5, 1.0, 'Top 10 Movies')"
      ]
     },
     "execution_count": 162,
     "metadata": {},
     "output_type": "execute_result"
    },
    {
     "data": {
      "image/png": "[encoded data removed]",
      "text/plain": [
       "<Figure size 1500x1000 with 1 Axes>"
      ]
     },
     "metadata": {},
     "output_type": "display_data"
    }
   ],
   "source": [
    "plt.figure(figsize=(15,10))\n",
    "sns.barplot(x=movie_data[\"Name\"].head(10),y=movie_data[\"Rating\"])\n",
    "plt.title(\"Top 10 Movies\")"
   ]
  },
  {
   "cell_type": "code",
   "execution_count": 163,
   "id": "4c97f4e0",
   "metadata": {},
   "outputs": [
    {
     "data": {
      "text/plain": [
       "Text(0.5, 1.0, 'Top 10 directors')"
      ]
     },
     "execution_count": 163,
     "metadata": {},
     "output_type": "execute_result"
    },
    {
     "data": {
      "image/png": "[encoded data removed]",
      "text/plain": [
       "<Figure size 1500x1000 with 1 Axes>"
      ]
     },
     "metadata": {},
     "output_type": "display_data"
    }
   ],
   "source": [
    "plt.figure(figsize=(15,10))\n",
    "sns.barplot(x=movie_data[\"Director\"].head(10),y=movie_data[\"Rating\"])\n",
    "plt.title(\"Top 10 directors\")"
   ]
  },
  {
   "cell_type": "markdown",
   "id": "55baa77d",
   "metadata": {},
   "source": [
    "#### Data Modelling"
   ]
  },
  {
   "cell_type": "code",
   "execution_count": 165,
   "id": "45a76930",
   "metadata": {},
   "outputs": [],
   "source": [
    "X= movie_data[['Genre','Director','Actor 1','Actor 2','Actor 3']]\n",
    "Y=movie_data['Rating']"
   ]
  },
  {
   "cell_type": "code",
   "execution_count": 166,
   "id": "94b39338",
   "metadata": {},
   "outputs": [],
   "source": [
    "X = X.dropna()\n",
    "#Y = Y[X.index]"
   ]
  },
  {
   "cell_type": "code",
   "execution_count": 170,
   "id": "713328f0",
   "metadata": {},
   "outputs": [
    {
     "name": "stdout",
     "output_type": "stream",
     "text": [
      "Length of X after alignment: 3749\n",
      "Length of Y after alignment: 3749\n"
     ]
    }
   ],
   "source": [
    "from sklearn.impute import SimpleImputer\n",
    "imputer = SimpleImputer(strategy='mean')\n",
    "X_imputed = imputer.fit_transform(X)\n",
    "X = pd.DataFrame(X_imputed, columns=X.columns)\n",
    "\n",
    "# Check and align indices\n",
    "common_indices = X.index.intersection(Y.index)\n",
    "X = X.loc[common_indices]\n",
    "Y = Y.loc[common_indices]\n",
    "\n",
    "# Ensure the lengths are consistent\n",
    "print(\"Length of X after alignment:\", len(X))\n",
    "print(\"Length of Y after alignment:\", len(Y))\n"
   ]
  },
  {
   "cell_type": "code",
   "execution_count": 173,
   "id": "ab7fd339",
   "metadata": {},
   "outputs": [],
   "source": [
    "from sklearn.model_selection import train_test_split\n",
    "from sklearn.linear_model import LinearRegression"
   ]
  },
  {
   "cell_type": "code",
   "execution_count": 174,
   "id": "8ff5195b",
   "metadata": {},
   "outputs": [
    {
     "data": {
      "text/html": [
       "<style>#sk-container-id-1 {color: black;}#sk-container-id-1 pre{padding: 0;}#sk-container-id-1 div.sk-toggleable {background-color: white;}#sk-container-id-1 label.sk-toggleable__label {cursor: pointer;display: block;width: 100%;margin-bottom: 0;padding: 0.3em;box-sizing: border-box;text-align: center;}#sk-container-id-1 label.sk-toggleable__label-arrow:before {content: \"▸\";float: left;margin-right: 0.25em;color: #696969;}#sk-container-id-1 label.sk-toggleable__label-arrow:hover:before {color: black;}#sk-container-id-1 div.sk-estimator:hover label.sk-toggleable__label-arrow:before {color: black;}#sk-container-id-1 div.sk-toggleable__content {max-height: 0;max-width: 0;overflow: hidden;text-align: left;background-color: #f0f8ff;}#sk-container-id-1 div.sk-toggleable__content pre {margin: 0.2em;color: black;border-radius: 0.25em;background-color: #f0f8ff;}#sk-container-id-1 input.sk-toggleable__control:checked~div.sk-toggleable__content {max-height: 200px;max-width: 100%;overflow: auto;}#sk-container-id-1 input.sk-toggleable__control:checked~label.sk-toggleable__label-arrow:before {content: \"▾\";}#sk-container-id-1 div.sk-estimator input.sk-toggleable__control:checked~label.sk-toggleable__label {background-color: #d4ebff;}#sk-container-id-1 div.sk-label input.sk-toggleable__control:checked~label.sk-toggleable__label {background-color: #d4ebff;}#sk-container-id-1 input.sk-hidden--visually {border: 0;clip: rect(1px 1px 1px 1px);clip: rect(1px, 1px, 1px, 1px);height: 1px;margin: -1px;overflow: hidden;padding: 0;position: absolute;width: 1px;}#sk-container-id-1 div.sk-estimator {font-family: monospace;background-color: #f0f8ff;border: 1px dotted black;border-radius: 0.25em;box-sizing: border-box;margin-bottom: 0.5em;}#sk-container-id-1 div.sk-estimator:hover {background-color: #d4ebff;}#sk-container-id-1 div.sk-parallel-item::after {content: \"\";width: 100%;border-bottom: 1px solid gray;flex-grow: 1;}#sk-container-id-1 div.sk-label:hover label.sk-toggleable__label {background-color: #d4ebff;}#sk-container-id-1 div.sk-serial::before {content: \"\";position: absolute;border-left: 1px solid gray;box-sizing: border-box;top: 0;bottom: 0;left: 50%;z-index: 0;}#sk-container-id-1 div.sk-serial {display: flex;flex-direction: column;align-items: center;background-color: white;padding-right: 0.2em;padding-left: 0.2em;position: relative;}#sk-container-id-1 div.sk-item {position: relative;z-index: 1;}#sk-container-id-1 div.sk-parallel {display: flex;align-items: stretch;justify-content: center;background-color: white;position: relative;}#sk-container-id-1 div.sk-item::before, #sk-container-id-1 div.sk-parallel-item::before {content: \"\";position: absolute;border-left: 1px solid gray;box-sizing: border-box;top: 0;bottom: 0;left: 50%;z-index: -1;}#sk-container-id-1 div.sk-parallel-item {display: flex;flex-direction: column;z-index: 1;position: relative;background-color: white;}#sk-container-id-1 div.sk-parallel-item:first-child::after {align-self: flex-end;width: 50%;}#sk-container-id-1 div.sk-parallel-item:last-child::after {align-self: flex-start;width: 50%;}#sk-container-id-1 div.sk-parallel-item:only-child::after {width: 0;}#sk-container-id-1 div.sk-dashed-wrapped {border: 1px dashed gray;margin: 0 0.4em 0.5em 0.4em;box-sizing: border-box;padding-bottom: 0.4em;background-color: white;}#sk-container-id-1 div.sk-label label {font-family: monospace;font-weight: bold;display: inline-block;line-height: 1.2em;}#sk-container-id-1 div.sk-label-container {text-align: center;}#sk-container-id-1 div.sk-container {/* jupyter's `normalize.less` sets `[hidden] { display: none; }` but bootstrap.min.css set `[hidden] { display: none !important; }` so we also need the `!important` here to be able to override the default hidden behavior on the sphinx rendered scikit-learn.org. See: https://github.com/scikit-learn/scikit-learn/issues/21755 */display: inline-block !important;position: relative;}#sk-container-id-1 div.sk-text-repr-fallback {display: none;}</style><div id=\"sk-container-id-1\" class=\"sk-top-container\"><div class=\"sk-text-repr-fallback\"><pre>LinearRegression()</pre><b>In a Jupyter environment, please rerun this cell to show the HTML representation or trust the notebook. <br />On GitHub, the HTML representation is unable to render, please try loading this page with nbviewer.org.</b></div><div class=\"sk-container\" hidden><div class=\"sk-item\"><div class=\"sk-estimator sk-toggleable\"><input class=\"sk-toggleable__control sk-hidden--visually\" id=\"sk-estimator-id-1\" type=\"checkbox\" checked><label for=\"sk-estimator-id-1\" class=\"sk-toggleable__label sk-toggleable__label-arrow\">LinearRegression</label><div class=\"sk-toggleable__content\"><pre>LinearRegression()</pre></div></div></div></div></div>"
      ],
      "text/plain": [
       "LinearRegression()"
      ]
     },
     "execution_count": 174,
     "metadata": {},
     "output_type": "execute_result"
    }
   ],
   "source": [
    "X_train, X_test, Y_train, Y_test= train_test_split(X,Y, test_size=0.2, random_state=42)\n",
    "model= LinearRegression()\n",
    "model.fit(X_train,Y_train)"
   ]
  },
  {
   "cell_type": "code",
   "execution_count": 175,
   "id": "fb8f8803",
   "metadata": {},
   "outputs": [
    {
     "data": {
      "text/plain": [
       "array([5.73996031, 5.77991756, 5.79427725, 5.77437892, 5.81180694,\n",
       "       5.78590816, 5.77689358, 5.87654671, 5.81698516, 5.76732178,\n",
       "       5.79376862, 5.77974567, 5.79586871, 5.82447115, 5.82537304,\n",
       "       5.76970438, 5.80212135, 5.81710704, 5.82943364, 5.72676125,\n",
       "       5.70908415, 5.78863939, 5.83564612, 5.78922395, 5.82025462,\n",
       "       5.84564169, 5.82951518, 5.81894724, 5.76983892, 5.82039474,\n",
       "       5.78556442, 5.77344793, 5.78735119, 5.77387232, 5.78091282,\n",
       "       5.76505892, 5.76766377, 5.81329286, 5.81852942, 5.78725217,\n",
       "       5.7417883 , 5.7494098 , 5.76482472, 5.81438952, 5.76952921,\n",
       "       5.70892874, 5.6886459 , 5.77620645, 5.83447431, 5.69598947,\n",
       "       5.81553181, 5.85749621, 5.79174453, 5.80572632, 5.77245044,\n",
       "       5.78041048, 5.77392299, 5.80071097, 5.77399889, 5.83987223,\n",
       "       5.86369277, 5.77111458, 5.84464765, 5.85167482, 5.7230958 ,\n",
       "       5.76137479, 5.75193774, 5.81483885, 5.76236537, 5.73622446,\n",
       "       5.80407615, 5.76023578, 5.87515574, 5.76823675, 5.78489985,\n",
       "       5.79087278, 5.78307594, 5.82956577, 5.80192324, 5.78844728,\n",
       "       5.76425978, 5.80758407, 5.7687403 , 5.8326389 , 5.77578192,\n",
       "       5.82471871, 5.70682918, 5.72964952, 5.79227352, 5.75117897,\n",
       "       5.74114004, 5.76327479, 5.79417476, 5.72206589, 5.75050979,\n",
       "       5.82013085, 5.7226064 , 5.79418905, 5.77846134, 5.80726824,\n",
       "       5.82832867, 5.85716101, 5.74964281, 5.80887506, 5.73766982,\n",
       "       5.7877922 , 5.73708685, 5.81997195, 5.83061417, 5.77139145,\n",
       "       5.75264967, 5.83500862, 5.76651997, 5.80731934, 5.7814738 ,\n",
       "       5.81798517, 5.71270645, 5.7592292 , 5.83067517, 5.80441473,\n",
       "       5.79439666, 5.76112882, 5.78220936, 5.86248076, 5.78488935,\n",
       "       5.80670264, 5.78203719, 5.79203039, 5.76008516, 5.95232133,\n",
       "       5.74095424, 5.83203552, 5.71720996, 5.76559228, 5.75498692,\n",
       "       5.76592916, 5.72857299, 5.81479265, 5.80519029, 5.67061069,\n",
       "       5.76349789, 5.72700692, 5.78632289, 5.75612373, 5.65842107,\n",
       "       5.88952212, 5.74661576, 5.86318171, 5.7959474 , 5.82232195,\n",
       "       5.76498061, 5.77509617, 5.78563205, 5.78112537, 5.80425296,\n",
       "       5.79601749, 5.84182314, 5.74814867, 5.75155326, 5.79945509,\n",
       "       5.76069028, 5.81762568, 5.78598182, 5.74729953, 5.75975548,\n",
       "       5.81253574, 5.81294083, 5.72909927, 5.80929246, 5.77962272,\n",
       "       5.78655652, 5.86788204, 5.7913685 , 5.80448442, 5.69473927,\n",
       "       5.76797317, 5.78350234, 5.77937313, 5.76602748, 5.83180017,\n",
       "       5.82855524, 5.77003403, 5.7221128 , 5.76782909, 5.82491663,\n",
       "       5.75479562, 5.72453878, 5.76149729, 5.78470673, 5.71303691,\n",
       "       5.78802246, 5.83718946, 5.78881981, 5.79397498, 5.78248712,\n",
       "       5.80884261, 5.7721123 , 5.72369813, 5.70259192, 5.74384083,\n",
       "       5.72414651, 5.81397099, 5.77630299, 5.78581106, 5.80356785,\n",
       "       5.80605004, 5.76036224, 5.77223666, 5.78875013, 5.78877443,\n",
       "       5.74003603, 5.68697224, 5.79806677, 5.6607726 , 5.70503261,\n",
       "       5.79886925, 5.73229763, 5.7961945 , 5.70126965, 5.77226572,\n",
       "       5.70884712, 5.77827669, 5.76641715, 5.77558255, 5.74856221,\n",
       "       5.78518518, 5.78396862, 5.84010942, 5.79485886, 5.75157373,\n",
       "       5.84127992, 5.78042727, 5.73662544, 5.77130694, 5.82832867,\n",
       "       5.80789128, 5.7701002 , 5.90153798, 5.68433977, 5.74741611,\n",
       "       5.76724148, 5.75205209, 5.81637702, 5.80006103, 5.75140021,\n",
       "       5.70389378, 5.77164865, 5.82359855, 5.77048542, 5.7945599 ,\n",
       "       5.78813921, 5.80055702, 5.73442132, 5.77415961, 5.8212458 ,\n",
       "       5.81544886, 5.73611094, 5.83171009, 5.73430576, 5.76070134,\n",
       "       5.81137131, 5.79613762, 5.79851047, 5.80892275, 5.76147068,\n",
       "       5.74062463, 5.79275124, 5.7768431 , 5.77599041, 5.78628747,\n",
       "       5.78616565, 5.71370052, 5.71135597, 5.74622567, 5.78980952,\n",
       "       5.77751824, 5.75322631, 5.78305161, 5.78869212, 5.78678302,\n",
       "       5.74220098, 5.75476342, 5.66066118, 5.73889008, 5.81865   ,\n",
       "       5.79262983, 5.77996702, 5.75858543, 5.84718588, 5.83826363,\n",
       "       5.78453223, 5.77892921, 5.76691371, 5.72873748, 5.75270387,\n",
       "       5.74591027, 5.74259883, 5.80057893, 5.86182486, 5.70001319,\n",
       "       5.7796422 , 5.80972187, 5.79102706, 5.74786236, 5.75430744,\n",
       "       5.721386  , 5.79998657, 5.76998047, 5.79220254, 5.74196946,\n",
       "       5.77220949, 5.75992732, 5.78667017, 5.79806828, 5.7518919 ,\n",
       "       5.83529472, 5.77513024, 5.78562926, 5.78694808, 5.79757754,\n",
       "       5.80678818, 5.77697977, 5.77174973, 5.79321947, 5.79001633,\n",
       "       5.7590116 , 5.74659145, 5.79146431, 5.77653052, 5.78391009,\n",
       "       5.81024268, 5.744079  , 5.78251868, 5.77375234, 5.79586558,\n",
       "       5.85412357, 5.78607838, 5.74017945, 5.77243845, 5.73052424,\n",
       "       5.78087308, 5.78291693, 5.75650176, 5.76965528, 5.82764729,\n",
       "       5.74495609, 5.78309503, 5.82532407, 5.75502755, 5.72077881,\n",
       "       5.79180019, 5.78924974, 5.74391189, 5.83133326, 5.77944038,\n",
       "       5.75871755, 5.69454172, 5.80894359, 5.76899867, 5.90009605,\n",
       "       5.80999697, 5.78187018, 5.80232621, 5.78412514, 5.81452608,\n",
       "       5.63023636, 5.75073406, 5.83099367, 5.86868276, 5.80953525,\n",
       "       5.72863886, 5.81374953, 5.80760652, 5.7978862 , 5.77518115,\n",
       "       5.81300818, 5.74406319, 5.8142284 , 5.81874897, 5.77202821,\n",
       "       5.78982482, 5.8082135 , 5.74755058, 5.81479473, 5.74249102,\n",
       "       5.78635696, 5.75107042, 5.77720019, 5.79292188, 5.85872712,\n",
       "       5.77364585, 5.78537819, 5.76937053, 5.7994679 , 5.74603709,\n",
       "       5.71273765, 5.77079944, 5.77440898, 5.69943347, 5.84159285,\n",
       "       5.77424133, 5.74233063, 5.77452967, 5.76080085, 5.90106389,\n",
       "       5.7804151 , 5.77467289, 5.75176842, 5.76378242, 5.79974091,\n",
       "       5.80253709, 5.77526986, 5.7687358 , 5.69421194, 5.79374115,\n",
       "       5.76115852, 5.73299336, 5.7966829 , 5.80277163, 5.80937552,\n",
       "       5.80849253, 5.75375783, 5.82656873, 5.74919809, 5.78352618,\n",
       "       5.82122062, 5.6556554 , 5.71746474, 5.78391751, 5.74498252,\n",
       "       5.80139746, 5.7761356 , 5.81912046, 5.80276954, 5.79758208,\n",
       "       5.84762297, 5.80542134, 5.78786553, 5.78096851, 5.78952491,\n",
       "       5.77589901, 5.77800727, 5.76716472, 5.80503599, 5.80020612,\n",
       "       5.7733536 , 5.79064221, 5.76755883, 5.77929724, 5.79502014,\n",
       "       5.80906648, 5.81782707, 5.832411  , 5.78576579, 5.7303094 ,\n",
       "       5.78760924, 5.80324681, 5.72148976, 5.81864215, 5.78025328,\n",
       "       5.7410909 , 5.67414327, 5.79102968, 5.78803244, 5.85655174,\n",
       "       5.79417399, 5.72247282, 5.78996932, 5.80913197, 5.74785433,\n",
       "       5.74708881, 5.76530074, 5.76233584, 5.8242242 , 5.77207099,\n",
       "       5.82612984, 5.78924984, 5.80347722, 5.77645807, 5.7871693 ,\n",
       "       5.77494532, 5.78356423, 5.79559082, 5.78486316, 5.73551756,\n",
       "       5.8130315 , 5.78762182, 5.72355123, 5.8037579 , 5.76057258,\n",
       "       5.84181468, 5.79749258, 5.70510557, 5.79714627, 5.7578117 ,\n",
       "       5.75639062, 5.7467716 , 5.84782387, 5.73397636, 5.77879211,\n",
       "       5.77213929, 5.83548658, 5.80025849, 5.75709686, 5.7850029 ,\n",
       "       5.71170155, 5.71295611, 5.83709694, 5.73624877, 5.76070592,\n",
       "       5.79912534, 5.79295928, 5.7328517 , 5.76620424, 5.74317836,\n",
       "       5.69944814, 5.78014397, 5.74795807, 5.77313773, 5.80670182,\n",
       "       5.72003548, 5.78609926, 5.77611797, 5.74827157, 5.78450117,\n",
       "       5.81591917, 5.75349449, 5.74901335, 5.77994712, 5.70795885,\n",
       "       5.82802192, 5.81826454, 5.81592404, 5.77801582, 5.81332853,\n",
       "       5.74005876, 5.75894336, 5.8393113 , 5.78501787, 5.7654576 ,\n",
       "       5.8048799 , 5.76230593, 5.68940886, 5.7540308 , 5.80948167,\n",
       "       5.72610949, 5.80142954, 5.69040432, 5.80304544, 5.7559175 ,\n",
       "       5.80813796, 5.72206894, 5.79093514, 5.80918639, 5.75373862,\n",
       "       5.81208208, 5.70273799, 5.75185323, 5.82832158, 5.76428028,\n",
       "       5.81247447, 5.76010162, 5.76639467, 5.80136347, 5.79897045,\n",
       "       5.77678629, 5.81699929, 5.80519749, 5.73701227, 5.87015554,\n",
       "       5.75167681, 5.81358287, 5.81588353, 5.83368124, 5.82161438,\n",
       "       5.78668659, 5.81506382, 5.79331251, 5.8201881 , 5.74756252,\n",
       "       5.7860652 , 5.79605922, 5.80458959, 5.79524763, 5.73054857,\n",
       "       5.75712094, 5.72156804, 5.7868385 , 5.80047792, 5.78737622,\n",
       "       5.76691466, 5.77913248, 5.78533963, 5.78687807, 5.85754243,\n",
       "       5.81473269, 5.81152102, 5.80042519, 5.73536949, 5.71912118,\n",
       "       5.79696018, 5.81494688, 5.80942605, 5.80748738, 5.77726697,\n",
       "       5.65353158, 5.85683766, 5.77897828, 5.78898314, 5.80964827,\n",
       "       5.77705022, 5.74041057, 5.76824594, 5.76170848, 5.75939524,\n",
       "       5.77738107, 5.82701684, 5.73260183, 5.73637438, 5.75644447,\n",
       "       5.78646756, 5.73183323, 5.75019969, 5.77889549, 5.73138645,\n",
       "       5.73761097, 5.77920399, 5.81933772, 5.82065776, 5.85471344,\n",
       "       5.72616346, 5.70287475, 5.82817733, 5.8072965 , 5.81117347,\n",
       "       5.820067  , 5.80090221, 5.67597036, 5.73871921, 5.75028833,\n",
       "       5.715524  , 5.79147061, 5.82708221, 5.82792849, 5.84529566,\n",
       "       5.80693145, 5.78844061, 5.74518142, 5.78587064, 5.73089772,\n",
       "       5.80503327, 5.72428289, 5.79170482, 5.78015228, 5.78657884,\n",
       "       5.79436017, 5.7798477 , 5.80587031, 5.80111192, 5.71978296,\n",
       "       5.81850473, 5.77055228, 5.75987261, 5.78727403, 5.88836622,\n",
       "       5.79199949, 5.77951479, 5.898902  , 5.76729329, 5.82963239,\n",
       "       5.70193552, 5.79777645, 5.83894177, 5.77270832, 5.81869964,\n",
       "       5.79532406, 5.81228612, 5.75262297, 5.77187834, 5.77305625,\n",
       "       5.79889594, 5.69678709, 5.78282465, 5.75310191, 5.7949731 ,\n",
       "       5.8091032 , 5.71349023, 5.81265513, 5.78475264, 5.76787402,\n",
       "       5.75542567, 5.78295402, 5.78251689, 5.71868647, 5.84844667,\n",
       "       5.80162965, 5.75654213, 5.79555831, 5.75979627, 5.76439898,\n",
       "       5.80957627, 5.75560952, 5.77873605, 5.80775099, 5.80128731,\n",
       "       5.8070818 , 5.79704463, 5.72977014, 5.7609811 , 5.78482456,\n",
       "       5.75061794, 5.83092582, 5.75743586, 5.73705165, 5.78309981,\n",
       "       5.77770485, 5.77996799, 5.79545882, 5.82088819, 5.60151276,\n",
       "       5.72857472, 5.79474502, 5.8220709 , 5.77209206, 5.78137828,\n",
       "       5.81646065, 5.71470205, 5.82835151, 5.80398565, 5.78187449,\n",
       "       5.75386386, 5.77079602, 5.74590585, 5.73486139, 5.74611903,\n",
       "       5.81878817, 5.78837007, 5.78702727, 5.75241861, 5.74466258,\n",
       "       5.820273  , 5.72156526, 5.80079282, 5.75954524, 5.81606795,\n",
       "       5.78971293, 5.78759318, 5.78403688, 5.77153723, 5.72476612])"
      ]
     },
     "execution_count": 175,
     "metadata": {},
     "output_type": "execute_result"
    }
   ],
   "source": [
    "prediction= model.predict(X_test)\n",
    "prediction"
   ]
  },
  {
   "cell_type": "code",
   "execution_count": null,
   "id": "3fc9eaf9",
   "metadata": {},
   "outputs": [],
   "source": []
  }
 ],
 "metadata": {
  "kernelspec": {
   "display_name": "Python 3 (ipykernel)",
   "language": "python",
   "name": "python3"
  },
  "language_info": {
   "codemirror_mode": {
    "name": "ipython",
    "version": 3
   },
   "file_extension": ".py",
   "mimetype": "text/x-python",
   "name": "python",
   "nbconvert_exporter": "python",
   "pygments_lexer": "ipython3",
   "version": "3.11.5"
  }
 },
 "nbformat": 4,
 "nbformat_minor": 5
}
